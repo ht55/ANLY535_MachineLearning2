{
 "cells": [
  {
   "cell_type": "markdown",
   "metadata": {},
   "source": [
    "# Laboratory 1 - Tensorflow"
   ]
  },
  {
   "cell_type": "markdown",
   "metadata": {},
   "source": [
    "### Step1. Warm-up\n",
    "### Let's start with basic commands in Tensorflow. Run following code in Python and analyze the output:"
   ]
  },
  {
   "cell_type": "code",
   "execution_count": 2,
   "metadata": {},
   "outputs": [
    {
     "name": "stdout",
     "output_type": "stream",
     "text": [
      "tf.Tensor(b'Hello, TensorFlow!', shape=(), dtype=string)\n"
     ]
    }
   ],
   "source": [
    "import tensorflow as tf\n",
    "hello = tf.constant('Hello, TensorFlow!') \n",
    "print(hello)"
   ]
  },
  {
   "cell_type": "markdown",
   "metadata": {},
   "source": [
    "### Step2. Implement OCR code in Tensorflow"
   ]
  },
  {
   "cell_type": "code",
   "execution_count": 3,
   "metadata": {},
   "outputs": [],
   "source": [
    "mnist = tf.keras.datasets.mnist\n",
    "(X_train, y_train), (X_test, y_test) = mnist.load_data()"
   ]
  },
  {
   "cell_type": "code",
   "execution_count": 4,
   "metadata": {},
   "outputs": [
    {
     "data": {
      "image/png": "[encoded data removed]",
      "text/plain": [
       "<Figure size 432x288 with 6 Axes>"
      ]
     },
     "metadata": {
      "needs_background": "light"
     },
     "output_type": "display_data"
    }
   ],
   "source": [
    "import matplotlib.pyplot as plt\n",
    "plt.subplot(231)\n",
    "plt.imshow(X_train[0], cmap=plt.get_cmap('gray'))\n",
    "plt.subplot(232)\n",
    "plt.imshow(X_train[1], cmap=plt.get_cmap('gray'))\n",
    "plt.subplot(233)\n",
    "plt.imshow(X_train[2], cmap=plt.get_cmap('gray'))\n",
    "plt.subplot(234)\n",
    "plt.imshow(X_train[3], cmap=plt.get_cmap('gray'))\n",
    "plt.subplot(235)\n",
    "plt.imshow(X_train[3], cmap=plt.get_cmap('gray'))\n",
    "plt.subplot(236)\n",
    "plt.imshow(X_train[3], cmap=plt.get_cmap('gray'))\n",
    "# show the plot\n",
    "plt.show()"
   ]
  },
  {
   "cell_type": "markdown",
   "metadata": {},
   "source": [
    "#### Normalize the data by dividing the values by 255."
   ]
  },
  {
   "cell_type": "code",
   "execution_count": 5,
   "metadata": {},
   "outputs": [],
   "source": [
    "X_train = X_train / 255\n",
    "X_test = X_test / 255"
   ]
  },
  {
   "cell_type": "markdown",
   "metadata": {},
   "source": [
    "#### Next step is to design the model. For this part we use only one hidden layer with 128 nodes on it."
   ]
  },
  {
   "cell_type": "code",
   "execution_count": 6,
   "metadata": {},
   "outputs": [],
   "source": [
    "model = tf.keras.models.Sequential([ tf.keras.layers.Flatten(input_shape=(28, 28)), \n",
    "                                    tf.keras.layers.Dense(128, activation='sigmoid'), \n",
    "                                    tf.keras.layers.Dense(10)\n",
    "])"
   ]
  },
  {
   "cell_type": "code",
   "execution_count": 7,
   "metadata": {},
   "outputs": [
    {
     "data": {
      "text/plain": [
       "array([[ 0.5986853 , -0.6095371 ,  0.47137007,  0.27930477, -0.32898095,\n",
       "        -0.40890428, -0.09351788, -0.5848508 ,  0.25348786,  0.05951521]],\n",
       "      dtype=float32)"
      ]
     },
     "execution_count": 7,
     "metadata": {},
     "output_type": "execute_result"
    }
   ],
   "source": [
    "predictions = model(X_train[:1]).numpy() \n",
    "predictions"
   ]
  },
  {
   "cell_type": "code",
   "execution_count": 8,
   "metadata": {},
   "outputs": [
    {
     "data": {
      "text/plain": [
       "array([[0.64535546, 0.3521648 , 0.615708  , 0.56937575, 0.4184886 ,\n",
       "        0.3991749 , 0.47663754, 0.35781723, 0.5630348 , 0.5148744 ]],\n",
       "      dtype=float32)"
      ]
     },
     "execution_count": 8,
     "metadata": {},
     "output_type": "execute_result"
    }
   ],
   "source": [
    "tf.nn.sigmoid(predictions).numpy()"
   ]
  },
  {
   "cell_type": "markdown",
   "metadata": {},
   "source": [
    "#### Define the loss function. We use a cross entropy as the loss function."
   ]
  },
  {
   "cell_type": "code",
   "execution_count": 9,
   "metadata": {},
   "outputs": [],
   "source": [
    "loss_fn = tf.keras.losses.SparseCategoricalCrossentropy(from_logits=True)"
   ]
  },
  {
   "cell_type": "code",
   "execution_count": 10,
   "metadata": {},
   "outputs": [
    {
     "data": {
      "text/plain": [
       "2.7592793"
      ]
     },
     "execution_count": 10,
     "metadata": {},
     "output_type": "execute_result"
    }
   ],
   "source": [
    "loss_fn(y_train[:1], predictions).numpy()"
   ]
  },
  {
   "cell_type": "markdown",
   "metadata": {},
   "source": [
    "#### Design the model and start training."
   ]
  },
  {
   "cell_type": "code",
   "execution_count": 11,
   "metadata": {},
   "outputs": [
    {
     "name": "stdout",
     "output_type": "stream",
     "text": [
      "Epoch 1/5\n",
      "1875/1875 [==============================] - 3s 1ms/step - loss: 1.8208 - accuracy: 0.5512\n",
      "Epoch 2/5\n",
      "1875/1875 [==============================] - 2s 1ms/step - loss: 0.7797 - accuracy: 0.8376\n",
      "Epoch 3/5\n",
      "1875/1875 [==============================] - 2s 1ms/step - loss: 0.5487 - accuracy: 0.8677\n",
      "Epoch 4/5\n",
      "1875/1875 [==============================] - 2s 1ms/step - loss: 0.4551 - accuracy: 0.8849\n",
      "Epoch 5/5\n",
      "1875/1875 [==============================] - 2s 1ms/step - loss: 0.4108 - accuracy: 0.8909\n"
     ]
    },
    {
     "data": {
      "text/plain": [
       "<tensorflow.python.keras.callbacks.History at 0x63b5d73c8>"
      ]
     },
     "execution_count": 11,
     "metadata": {},
     "output_type": "execute_result"
    }
   ],
   "source": [
    "model.compile(optimizer='SGD', loss=loss_fn, metrics=['accuracy']) \n",
    "model.fit(X_train, y_train, epochs=5)"
   ]
  },
  {
   "cell_type": "code",
   "execution_count": 12,
   "metadata": {},
   "outputs": [
    {
     "name": "stdout",
     "output_type": "stream",
     "text": [
      "313/313 - 0s - loss: 0.3739 - accuracy: 0.8996\n",
      "Baseline Error: 10.04%\n",
      "Baseline Accuracy: 89.96%\n"
     ]
    }
   ],
   "source": [
    "scores = model.evaluate(X_test, y_test, verbose=2)\n",
    "print(\"Baseline Error: %.2f%%\" % (100-scores[1]*100))\n",
    "print(\"Baseline Accuracy: %.2f%%\" % (scores[1]*100))"
   ]
  },
  {
   "cell_type": "markdown",
   "metadata": {},
   "source": [
    "#### Add another layer with 128 nodes, increase the epochs to 10 and report the result."
   ]
  },
  {
   "cell_type": "code",
   "execution_count": 13,
   "metadata": {},
   "outputs": [
    {
     "name": "stdout",
     "output_type": "stream",
     "text": [
      "Epoch 1/10\n",
      "1500/1500 [==============================] - 4s 2ms/step - loss: 2.2703 - accuracy: 0.2021 - val_loss: 2.1005 - val_accuracy: 0.4710\n",
      "Epoch 2/10\n",
      "1500/1500 [==============================] - 3s 2ms/step - loss: 2.0004 - accuracy: 0.5323 - val_loss: 1.5628 - val_accuracy: 0.6372\n",
      "Epoch 3/10\n",
      "1500/1500 [==============================] - 3s 2ms/step - loss: 1.4263 - accuracy: 0.6741 - val_loss: 1.0404 - val_accuracy: 0.7832\n",
      "Epoch 4/10\n",
      "1500/1500 [==============================] - 3s 2ms/step - loss: 0.9870 - accuracy: 0.7674 - val_loss: 0.7750 - val_accuracy: 0.8201\n",
      "Epoch 5/10\n",
      "1500/1500 [==============================] - 2s 2ms/step - loss: 0.7637 - accuracy: 0.8095 - val_loss: 0.6325 - val_accuracy: 0.8397\n",
      "Epoch 6/10\n",
      "1500/1500 [==============================] - 3s 2ms/step - loss: 0.6301 - accuracy: 0.8371 - val_loss: 0.5477 - val_accuracy: 0.8617\n",
      "Epoch 7/10\n",
      "1500/1500 [==============================] - 3s 2ms/step - loss: 0.5623 - accuracy: 0.8516 - val_loss: 0.4919 - val_accuracy: 0.8699\n",
      "Epoch 8/10\n",
      "1500/1500 [==============================] - 3s 2ms/step - loss: 0.5086 - accuracy: 0.8627 - val_loss: 0.4516 - val_accuracy: 0.8806\n",
      "Epoch 9/10\n",
      "1500/1500 [==============================] - 3s 2ms/step - loss: 0.4734 - accuracy: 0.8709 - val_loss: 0.4204 - val_accuracy: 0.8890\n",
      "Epoch 10/10\n",
      "1500/1500 [==============================] - 2s 2ms/step - loss: 0.4355 - accuracy: 0.8836 - val_loss: 0.3956 - val_accuracy: 0.8941\n",
      "313/313 - 0s - loss: 0.3995 - accuracy: 0.8895\n"
     ]
    },
    {
     "data": {
      "text/plain": [
       "[0.39946234226226807, 0.8895000219345093]"
      ]
     },
     "execution_count": 13,
     "metadata": {},
     "output_type": "execute_result"
    }
   ],
   "source": [
    "model = tf.keras.models.Sequential([tf.keras.layers.Flatten(input_shape=(28, 28)), \n",
    "                                    tf.keras.layers.Dense(128, activation='sigmoid'), \n",
    "                                    tf.keras.layers.Dense(128, activation='sigmoid'), \n",
    "                                    tf.keras.layers.Dense(10)\n",
    "])\n",
    "model.compile(optimizer='SGD',\n",
    "             loss=loss_fn,\n",
    "             metrics=['accuracy'])\n",
    "hist = model.fit(X_train, y_train, validation_split=0.2, epochs=10)\n",
    "model.evaluate(X_test, y_test, verbose=2)"
   ]
  },
  {
   "cell_type": "code",
   "execution_count": 14,
   "metadata": {},
   "outputs": [
    {
     "name": "stdout",
     "output_type": "stream",
     "text": [
      "313/313 - 0s - loss: 0.3995 - accuracy: 0.8895\n",
      "Baseline Error: 11.05%\n",
      "Baseline Accuracy: 88.95%\n"
     ]
    }
   ],
   "source": [
    "scores = model.evaluate(X_test, y_test, verbose=2)\n",
    "print(\"Baseline Error: %.2f%%\" % (100-scores[1]*100))\n",
    "print(\"Baseline Accuracy: %.2f%%\" % (scores[1]*100))"
   ]
  },
  {
   "cell_type": "markdown",
   "metadata": {},
   "source": [
    "#### Draw the learning curves."
   ]
  },
  {
   "cell_type": "code",
   "execution_count": 15,
   "metadata": {},
   "outputs": [
    {
     "data": {
      "image/png": "[encoded data removed]",
      "text/plain": [
       "<Figure size 432x288 with 2 Axes>"
      ]
     },
     "metadata": {
      "needs_background": "light"
     },
     "output_type": "display_data"
    }
   ],
   "source": [
    "plt.subplot(2,1,1) \n",
    "plt.plot(hist.history['accuracy']) \n",
    "plt.plot(hist.history['val_accuracy']) \n",
    "plt.title('model accuracy') \n",
    "plt.ylabel('accuracy')\n",
    "plt.xlabel('epoch')\n",
    "plt.legend(['train', 'test'], loc='lower right')\n",
    "plt.subplot(2,1,2) \n",
    "plt.plot(hist.history['loss'])\n",
    "plt.plot(hist.history['val_loss']) \n",
    "plt.title('model loss')\n",
    "plt.ylabel('loss')\n",
    "plt.xlabel('epoch')\n",
    "plt.legend(['train', 'test'], loc='upper right')\n",
    "plt.show()"
   ]
  },
  {
   "cell_type": "markdown",
   "metadata": {},
   "source": [
    "##### Model is underfitting."
   ]
  },
  {
   "cell_type": "markdown",
   "metadata": {},
   "source": [
    "##### Add the dropout to the model."
   ]
  },
  {
   "cell_type": "code",
   "execution_count": 16,
   "metadata": {},
   "outputs": [
    {
     "name": "stdout",
     "output_type": "stream",
     "text": [
      "Epoch 1/10\n",
      "1500/1500 [==============================] - 4s 2ms/step - loss: 2.3216 - accuracy: 0.1236 - val_loss: 2.1440 - val_accuracy: 0.5295\n",
      "Epoch 2/10\n",
      "1500/1500 [==============================] - 3s 2ms/step - loss: 2.1114 - accuracy: 0.2883 - val_loss: 1.7282 - val_accuracy: 0.6363\n",
      "Epoch 3/10\n",
      "1500/1500 [==============================] - 3s 2ms/step - loss: 1.6454 - accuracy: 0.5149 - val_loss: 1.1710 - val_accuracy: 0.7192\n",
      "Epoch 4/10\n",
      "1500/1500 [==============================] - 3s 2ms/step - loss: 1.1711 - accuracy: 0.6514 - val_loss: 0.8651 - val_accuracy: 0.7879\n",
      "Epoch 5/10\n",
      "1500/1500 [==============================] - 3s 2ms/step - loss: 0.9198 - accuracy: 0.7207 - val_loss: 0.7040 - val_accuracy: 0.8267\n",
      "Epoch 6/10\n",
      "1500/1500 [==============================] - 3s 2ms/step - loss: 0.7743 - accuracy: 0.7679 - val_loss: 0.6045 - val_accuracy: 0.8480\n",
      "Epoch 7/10\n",
      "1500/1500 [==============================] - 3s 2ms/step - loss: 0.6727 - accuracy: 0.7994 - val_loss: 0.5346 - val_accuracy: 0.8614\n",
      "Epoch 8/10\n",
      "1500/1500 [==============================] - 2s 2ms/step - loss: 0.6009 - accuracy: 0.8250 - val_loss: 0.4834 - val_accuracy: 0.8723\n",
      "Epoch 9/10\n",
      "1500/1500 [==============================] - 2s 2ms/step - loss: 0.5533 - accuracy: 0.8349 - val_loss: 0.4479 - val_accuracy: 0.8787\n",
      "Epoch 10/10\n",
      "1500/1500 [==============================] - 3s 2ms/step - loss: 0.5212 - accuracy: 0.8470 - val_loss: 0.4212 - val_accuracy: 0.8856\n",
      "313/313 - 0s - loss: 0.4271 - accuracy: 0.8808\n"
     ]
    },
    {
     "data": {
      "text/plain": [
       "[0.4271280765533447, 0.8808000087738037]"
      ]
     },
     "execution_count": 16,
     "metadata": {},
     "output_type": "execute_result"
    }
   ],
   "source": [
    "model = tf.keras.models.Sequential([ tf.keras.layers.Flatten(input_shape=(28, 28)), \n",
    "                                    tf.keras.layers.Dense(128, activation='sigmoid'), \n",
    "                                    tf.keras.layers.Dense(128, activation='sigmoid'), \n",
    "                                    tf.keras.layers.Dropout(0.2), \n",
    "                                    tf.keras.layers.Dense(10)\n",
    "])\n",
    "model.compile(optimizer='SGD',\n",
    "             loss=loss_fn,\n",
    "             metrics=['accuracy'])\n",
    "hist = model.fit(X_train, y_train, validation_split=0.2, epochs=10)\n",
    "model.evaluate(X_test, y_test, verbose=2)"
   ]
  },
  {
   "cell_type": "code",
   "execution_count": 17,
   "metadata": {},
   "outputs": [
    {
     "name": "stdout",
     "output_type": "stream",
     "text": [
      "313/313 - 0s - loss: 0.4271 - accuracy: 0.8808\n",
      "Baseline Error: 11.92%\n",
      "Baseline Accuracy: 88.08%\n"
     ]
    }
   ],
   "source": [
    "scores = model.evaluate(X_test, y_test, verbose=2)\n",
    "print(\"Baseline Error: %.2f%%\" % (100-scores[1]*100))\n",
    "print(\"Baseline Accuracy: %.2f%%\" % (scores[1]*100))"
   ]
  },
  {
   "cell_type": "markdown",
   "metadata": {},
   "source": [
    "#### Now train the model again with adding stochastic gradient descent with batch size of 200."
   ]
  },
  {
   "cell_type": "code",
   "execution_count": 18,
   "metadata": {},
   "outputs": [
    {
     "name": "stdout",
     "output_type": "stream",
     "text": [
      "Epoch 1/10\n",
      "240/240 [==============================] - 1s 5ms/step - loss: 2.3917 - accuracy: 0.1005 - val_loss: 2.2841 - val_accuracy: 0.1596\n",
      "Epoch 2/10\n",
      "240/240 [==============================] - 1s 3ms/step - loss: 2.3292 - accuracy: 0.1141 - val_loss: 2.2643 - val_accuracy: 0.1447\n",
      "Epoch 3/10\n",
      "240/240 [==============================] - 1s 3ms/step - loss: 2.3019 - accuracy: 0.1306 - val_loss: 2.2421 - val_accuracy: 0.2709\n",
      "Epoch 4/10\n",
      "240/240 [==============================] - 1s 4ms/step - loss: 2.2817 - accuracy: 0.1435 - val_loss: 2.2181 - val_accuracy: 0.3073\n",
      "Epoch 5/10\n",
      "240/240 [==============================] - 1s 5ms/step - loss: 2.2594 - accuracy: 0.1660 - val_loss: 2.1912 - val_accuracy: 0.4058\n",
      "Epoch 6/10\n",
      "240/240 [==============================] - 1s 4ms/step - loss: 2.2272 - accuracy: 0.1922 - val_loss: 2.1597 - val_accuracy: 0.4618\n",
      "Epoch 7/10\n",
      "240/240 [==============================] - 1s 4ms/step - loss: 2.1930 - accuracy: 0.2194 - val_loss: 2.1227 - val_accuracy: 0.5041\n",
      "Epoch 8/10\n",
      "240/240 [==============================] - 1s 3ms/step - loss: 2.1559 - accuracy: 0.2528 - val_loss: 2.0772 - val_accuracy: 0.5313\n",
      "Epoch 9/10\n",
      "240/240 [==============================] - 1s 4ms/step - loss: 2.1076 - accuracy: 0.2949 - val_loss: 2.0243 - val_accuracy: 0.5368\n",
      "Epoch 10/10\n",
      "240/240 [==============================] - 1s 3ms/step - loss: 2.0558 - accuracy: 0.3274 - val_loss: 1.9597 - val_accuracy: 0.5755\n",
      "313/313 - 0s - loss: 1.9559 - accuracy: 0.5790\n"
     ]
    },
    {
     "data": {
      "text/plain": [
       "[1.9559279680252075, 0.5789999961853027]"
      ]
     },
     "execution_count": 18,
     "metadata": {},
     "output_type": "execute_result"
    }
   ],
   "source": [
    "model = tf.keras.models.Sequential([ tf.keras.layers.Flatten(input_shape=(28, 28)), \n",
    "                                    tf.keras.layers.Dense(128, activation='sigmoid'), \n",
    "                                    tf.keras.layers.Dense(128, activation='sigmoid'), \n",
    "                                    tf.keras.layers.Dropout(0.2), \n",
    "                                    tf.keras.layers.Dense(10)\n",
    "])\n",
    "model.compile(optimizer='SGD',\n",
    "             loss=loss_fn,\n",
    "             metrics=['accuracy'])\n",
    "hist = model.fit(X_train, y_train, validation_split=0.2, epochs=10, batch_size=200)\n",
    "model.evaluate(X_test, y_test, verbose=2)"
   ]
  },
  {
   "cell_type": "code",
   "execution_count": 20,
   "metadata": {},
   "outputs": [
    {
     "data": {
      "text/html": [
       "<div>\n",
       "<style scoped>\n",
       "    .dataframe tbody tr th:only-of-type {\n",
       "        vertical-align: middle;\n",
       "    }\n",
       "\n",
       "    .dataframe tbody tr th {\n",
       "        vertical-align: top;\n",
       "    }\n",
       "\n",
       "    .dataframe thead th {\n",
       "        text-align: right;\n",
       "    }\n",
       "</style>\n",
       "<table border=\"1\" class=\"dataframe\">\n",
       "  <thead>\n",
       "    <tr style=\"text-align: right;\">\n",
       "      <th></th>\n",
       "      <th>ID</th>\n",
       "      <th>preg_no</th>\n",
       "      <th>plasma</th>\n",
       "      <th>diastolic</th>\n",
       "      <th>triceps</th>\n",
       "      <th>serum</th>\n",
       "      <th>mass</th>\n",
       "      <th>pedigree</th>\n",
       "      <th>age</th>\n",
       "      <th>diabete</th>\n",
       "    </tr>\n",
       "  </thead>\n",
       "  <tbody>\n",
       "    <tr>\n",
       "      <th>0</th>\n",
       "      <td>1</td>\n",
       "      <td>6</td>\n",
       "      <td>148</td>\n",
       "      <td>72</td>\n",
       "      <td>35</td>\n",
       "      <td>0</td>\n",
       "      <td>33.6</td>\n",
       "      <td>0.627</td>\n",
       "      <td>50</td>\n",
       "      <td>1</td>\n",
       "    </tr>\n",
       "    <tr>\n",
       "      <th>1</th>\n",
       "      <td>2</td>\n",
       "      <td>1</td>\n",
       "      <td>85</td>\n",
       "      <td>66</td>\n",
       "      <td>29</td>\n",
       "      <td>0</td>\n",
       "      <td>26.6</td>\n",
       "      <td>0.351</td>\n",
       "      <td>31</td>\n",
       "      <td>0</td>\n",
       "    </tr>\n",
       "    <tr>\n",
       "      <th>2</th>\n",
       "      <td>3</td>\n",
       "      <td>8</td>\n",
       "      <td>183</td>\n",
       "      <td>64</td>\n",
       "      <td>0</td>\n",
       "      <td>0</td>\n",
       "      <td>23.3</td>\n",
       "      <td>0.672</td>\n",
       "      <td>32</td>\n",
       "      <td>1</td>\n",
       "    </tr>\n",
       "    <tr>\n",
       "      <th>3</th>\n",
       "      <td>4</td>\n",
       "      <td>1</td>\n",
       "      <td>89</td>\n",
       "      <td>66</td>\n",
       "      <td>23</td>\n",
       "      <td>94</td>\n",
       "      <td>28.1</td>\n",
       "      <td>0.167</td>\n",
       "      <td>21</td>\n",
       "      <td>0</td>\n",
       "    </tr>\n",
       "    <tr>\n",
       "      <th>4</th>\n",
       "      <td>5</td>\n",
       "      <td>0</td>\n",
       "      <td>137</td>\n",
       "      <td>40</td>\n",
       "      <td>35</td>\n",
       "      <td>168</td>\n",
       "      <td>43.1</td>\n",
       "      <td>2.288</td>\n",
       "      <td>33</td>\n",
       "      <td>1</td>\n",
       "    </tr>\n",
       "  </tbody>\n",
       "</table>\n",
       "</div>"
      ],
      "text/plain": [
       "   ID  preg_no  plasma  diastolic  triceps  serum  mass  pedigree  age  \\\n",
       "0   1        6     148         72       35      0  33.6     0.627   50   \n",
       "1   2        1      85         66       29      0  26.6     0.351   31   \n",
       "2   3        8     183         64        0      0  23.3     0.672   32   \n",
       "3   4        1      89         66       23     94  28.1     0.167   21   \n",
       "4   5        0     137         40       35    168  43.1     2.288   33   \n",
       "\n",
       "   diabete  \n",
       "0        1  \n",
       "1        0  \n",
       "2        1  \n",
       "3        0  \n",
       "4        1  "
      ]
     },
     "execution_count": 20,
     "metadata": {},
     "output_type": "execute_result"
    }
   ],
   "source": [
    "import pandas as pd\n",
    "file = \"/Users/hit028/Desktop/pima-indians-diabetes.csv\"\n",
    "dataframe = pd.read_csv(file)\n",
    "dataframe.head()"
   ]
  },
  {
   "cell_type": "code",
   "execution_count": 21,
   "metadata": {},
   "outputs": [
    {
     "data": {
      "text/html": [
       "<div>\n",
       "<style scoped>\n",
       "    .dataframe tbody tr th:only-of-type {\n",
       "        vertical-align: middle;\n",
       "    }\n",
       "\n",
       "    .dataframe tbody tr th {\n",
       "        vertical-align: top;\n",
       "    }\n",
       "\n",
       "    .dataframe thead th {\n",
       "        text-align: right;\n",
       "    }\n",
       "</style>\n",
       "<table border=\"1\" class=\"dataframe\">\n",
       "  <thead>\n",
       "    <tr style=\"text-align: right;\">\n",
       "      <th></th>\n",
       "      <th>ID</th>\n",
       "      <th>preg_no</th>\n",
       "      <th>plasma</th>\n",
       "      <th>diastolic</th>\n",
       "      <th>triceps</th>\n",
       "      <th>serum</th>\n",
       "      <th>mass</th>\n",
       "      <th>pedigree</th>\n",
       "      <th>age</th>\n",
       "      <th>diabete</th>\n",
       "    </tr>\n",
       "  </thead>\n",
       "  <tbody>\n",
       "    <tr>\n",
       "      <th>count</th>\n",
       "      <td>768.000000</td>\n",
       "      <td>768.000000</td>\n",
       "      <td>768.000000</td>\n",
       "      <td>768.000000</td>\n",
       "      <td>768.000000</td>\n",
       "      <td>768.000000</td>\n",
       "      <td>768.000000</td>\n",
       "      <td>768.000000</td>\n",
       "      <td>768.000000</td>\n",
       "      <td>768.000000</td>\n",
       "    </tr>\n",
       "    <tr>\n",
       "      <th>mean</th>\n",
       "      <td>384.500000</td>\n",
       "      <td>3.845052</td>\n",
       "      <td>120.894531</td>\n",
       "      <td>69.105469</td>\n",
       "      <td>20.536458</td>\n",
       "      <td>79.799479</td>\n",
       "      <td>31.992578</td>\n",
       "      <td>0.471876</td>\n",
       "      <td>33.240885</td>\n",
       "      <td>0.348958</td>\n",
       "    </tr>\n",
       "    <tr>\n",
       "      <th>std</th>\n",
       "      <td>221.846794</td>\n",
       "      <td>3.369578</td>\n",
       "      <td>31.972618</td>\n",
       "      <td>19.355807</td>\n",
       "      <td>15.952218</td>\n",
       "      <td>115.244002</td>\n",
       "      <td>7.884160</td>\n",
       "      <td>0.331329</td>\n",
       "      <td>11.760232</td>\n",
       "      <td>0.476951</td>\n",
       "    </tr>\n",
       "    <tr>\n",
       "      <th>min</th>\n",
       "      <td>1.000000</td>\n",
       "      <td>0.000000</td>\n",
       "      <td>0.000000</td>\n",
       "      <td>0.000000</td>\n",
       "      <td>0.000000</td>\n",
       "      <td>0.000000</td>\n",
       "      <td>0.000000</td>\n",
       "      <td>0.078000</td>\n",
       "      <td>21.000000</td>\n",
       "      <td>0.000000</td>\n",
       "    </tr>\n",
       "    <tr>\n",
       "      <th>25%</th>\n",
       "      <td>192.750000</td>\n",
       "      <td>1.000000</td>\n",
       "      <td>99.000000</td>\n",
       "      <td>62.000000</td>\n",
       "      <td>0.000000</td>\n",
       "      <td>0.000000</td>\n",
       "      <td>27.300000</td>\n",
       "      <td>0.243750</td>\n",
       "      <td>24.000000</td>\n",
       "      <td>0.000000</td>\n",
       "    </tr>\n",
       "    <tr>\n",
       "      <th>50%</th>\n",
       "      <td>384.500000</td>\n",
       "      <td>3.000000</td>\n",
       "      <td>117.000000</td>\n",
       "      <td>72.000000</td>\n",
       "      <td>23.000000</td>\n",
       "      <td>30.500000</td>\n",
       "      <td>32.000000</td>\n",
       "      <td>0.372500</td>\n",
       "      <td>29.000000</td>\n",
       "      <td>0.000000</td>\n",
       "    </tr>\n",
       "    <tr>\n",
       "      <th>75%</th>\n",
       "      <td>576.250000</td>\n",
       "      <td>6.000000</td>\n",
       "      <td>140.250000</td>\n",
       "      <td>80.000000</td>\n",
       "      <td>32.000000</td>\n",
       "      <td>127.250000</td>\n",
       "      <td>36.600000</td>\n",
       "      <td>0.626250</td>\n",
       "      <td>41.000000</td>\n",
       "      <td>1.000000</td>\n",
       "    </tr>\n",
       "    <tr>\n",
       "      <th>max</th>\n",
       "      <td>768.000000</td>\n",
       "      <td>17.000000</td>\n",
       "      <td>199.000000</td>\n",
       "      <td>122.000000</td>\n",
       "      <td>99.000000</td>\n",
       "      <td>846.000000</td>\n",
       "      <td>67.100000</td>\n",
       "      <td>2.420000</td>\n",
       "      <td>81.000000</td>\n",
       "      <td>1.000000</td>\n",
       "    </tr>\n",
       "  </tbody>\n",
       "</table>\n",
       "</div>"
      ],
      "text/plain": [
       "               ID     preg_no      plasma   diastolic     triceps       serum  \\\n",
       "count  768.000000  768.000000  768.000000  768.000000  768.000000  768.000000   \n",
       "mean   384.500000    3.845052  120.894531   69.105469   20.536458   79.799479   \n",
       "std    221.846794    3.369578   31.972618   19.355807   15.952218  115.244002   \n",
       "min      1.000000    0.000000    0.000000    0.000000    0.000000    0.000000   \n",
       "25%    192.750000    1.000000   99.000000   62.000000    0.000000    0.000000   \n",
       "50%    384.500000    3.000000  117.000000   72.000000   23.000000   30.500000   \n",
       "75%    576.250000    6.000000  140.250000   80.000000   32.000000  127.250000   \n",
       "max    768.000000   17.000000  199.000000  122.000000   99.000000  846.000000   \n",
       "\n",
       "             mass    pedigree         age     diabete  \n",
       "count  768.000000  768.000000  768.000000  768.000000  \n",
       "mean    31.992578    0.471876   33.240885    0.348958  \n",
       "std      7.884160    0.331329   11.760232    0.476951  \n",
       "min      0.000000    0.078000   21.000000    0.000000  \n",
       "25%     27.300000    0.243750   24.000000    0.000000  \n",
       "50%     32.000000    0.372500   29.000000    0.000000  \n",
       "75%     36.600000    0.626250   41.000000    1.000000  \n",
       "max     67.100000    2.420000   81.000000    1.000000  "
      ]
     },
     "execution_count": 21,
     "metadata": {},
     "output_type": "execute_result"
    }
   ],
   "source": [
    "dataframe.describe()"
   ]
  },
  {
   "cell_type": "code",
   "execution_count": 22,
   "metadata": {},
   "outputs": [],
   "source": [
    "y2 = dataframe['diabete']\n",
    "X2 = dataframe.drop(['ID','diabete'], axis=1)"
   ]
  },
  {
   "cell_type": "code",
   "execution_count": 23,
   "metadata": {},
   "outputs": [],
   "source": [
    "from sklearn.preprocessing import MinMaxScaler\n",
    "\n",
    "X2 = MinMaxScaler().fit_transform(X2) "
   ]
  },
  {
   "cell_type": "code",
   "execution_count": 24,
   "metadata": {},
   "outputs": [],
   "source": [
    "from sklearn.model_selection import train_test_split\n",
    "X2_train, X2_test, y2_train, y2_test = train_test_split(X2, y2, test_size=0.20, random_state=1234)"
   ]
  },
  {
   "cell_type": "markdown",
   "metadata": {},
   "source": [
    "#### Design a neural network with 2 hidden layers (hidden layer 1 with 12 nodes and hidden layer 2 with 8 nodes), report the accuracy and draw the learning curves. Apply a dropout to see if you could get any better result. Use ‘adam’ as optimizer."
   ]
  },
  {
   "cell_type": "code",
   "execution_count": 25,
   "metadata": {},
   "outputs": [],
   "source": [
    "model32 = tf.keras.models.Sequential([ tf.keras.layers.Dense(12, input_dim=8, activation='relu'), \n",
    "                                    tf.keras.layers.Dense(8, activation='relu'),  \n",
    "                                    tf.keras.layers.Dense(2, activation='sigmoid')\n",
    "])"
   ]
  },
  {
   "cell_type": "code",
   "execution_count": 26,
   "metadata": {},
   "outputs": [
    {
     "name": "stdout",
     "output_type": "stream",
     "text": [
      "Epoch 1/10\n",
      "16/16 [==============================] - 1s 16ms/step - loss: 0.6740 - accuracy: 0.6115 - val_loss: 0.6443 - val_accuracy: 0.7073\n",
      "Epoch 2/10\n",
      "16/16 [==============================] - 0s 5ms/step - loss: 0.6567 - accuracy: 0.6511 - val_loss: 0.6310 - val_accuracy: 0.7073\n",
      "Epoch 3/10\n",
      "16/16 [==============================] - 0s 5ms/step - loss: 0.6598 - accuracy: 0.6258 - val_loss: 0.6255 - val_accuracy: 0.7073\n",
      "Epoch 4/10\n",
      "16/16 [==============================] - 0s 5ms/step - loss: 0.6374 - accuracy: 0.6671 - val_loss: 0.6197 - val_accuracy: 0.7073\n",
      "Epoch 5/10\n",
      "16/16 [==============================] - 0s 11ms/step - loss: 0.6511 - accuracy: 0.6281 - val_loss: 0.6173 - val_accuracy: 0.7073\n",
      "Epoch 6/10\n",
      "16/16 [==============================] - 0s 4ms/step - loss: 0.6470 - accuracy: 0.6262 - val_loss: 0.6153 - val_accuracy: 0.7073\n",
      "Epoch 7/10\n",
      "16/16 [==============================] - 0s 4ms/step - loss: 0.6294 - accuracy: 0.6581 - val_loss: 0.6084 - val_accuracy: 0.7073\n",
      "Epoch 8/10\n",
      "16/16 [==============================] - 0s 4ms/step - loss: 0.6441 - accuracy: 0.6211 - val_loss: 0.6036 - val_accuracy: 0.7073\n",
      "Epoch 9/10\n",
      "16/16 [==============================] - 0s 4ms/step - loss: 0.6096 - accuracy: 0.6860 - val_loss: 0.5969 - val_accuracy: 0.7073\n",
      "Epoch 10/10\n",
      "16/16 [==============================] - 0s 4ms/step - loss: 0.6344 - accuracy: 0.6296 - val_loss: 0.5951 - val_accuracy: 0.7154\n",
      "5/5 - 0s - loss: 0.6242 - accuracy: 0.6494\n"
     ]
    },
    {
     "data": {
      "text/plain": [
       "[0.6242331266403198, 0.649350643157959]"
      ]
     },
     "execution_count": 26,
     "metadata": {},
     "output_type": "execute_result"
    }
   ],
   "source": [
    "model32.compile(optimizer='adam',\n",
    "             loss=loss_fn,\n",
    "             metrics=['accuracy'])\n",
    "\n",
    "hist2 = model32.fit(X2_train, y2_train, validation_split=0.2, epochs=10)\n",
    "model32.evaluate(X2_test, y2_test, verbose=2)"
   ]
  },
  {
   "cell_type": "code",
   "execution_count": 27,
   "metadata": {},
   "outputs": [
    {
     "name": "stdout",
     "output_type": "stream",
     "text": [
      "5/5 - 0s - loss: 0.6242 - accuracy: 0.6494\n",
      "Baseline Error: 35.06%\n",
      "Accuracy: 64.94%\n"
     ]
    }
   ],
   "source": [
    "scores32 = model32.evaluate(X2_test, y2_test, verbose=2)\n",
    "print(\"Baseline Error: %.2f%%\" % (100-scores32[1]*100))\n",
    "print(\"Accuracy: %.2f%%\" % (scores32[1]*100))"
   ]
  },
  {
   "cell_type": "code",
   "execution_count": 28,
   "metadata": {},
   "outputs": [],
   "source": [
    "model32 = tf.keras.models.Sequential([ tf.keras.layers.Dense(12, activation='relu'), \n",
    "                                    tf.keras.layers.Dense(8, activation='relu'), \n",
    "                                    tf.keras.layers.Dropout(0.2), \n",
    "                                    tf.keras.layers.Dense(2, activation='sigmoid')\n",
    "])"
   ]
  },
  {
   "cell_type": "code",
   "execution_count": 29,
   "metadata": {},
   "outputs": [
    {
     "name": "stdout",
     "output_type": "stream",
     "text": [
      "Epoch 1/10\n",
      "16/16 [==============================] - 1s 13ms/step - loss: 0.6807 - accuracy: 0.6302 - val_loss: 0.6588 - val_accuracy: 0.6748\n",
      "Epoch 2/10\n",
      "16/16 [==============================] - 0s 4ms/step - loss: 0.6575 - accuracy: 0.6540 - val_loss: 0.6479 - val_accuracy: 0.7073\n",
      "Epoch 3/10\n",
      "16/16 [==============================] - 0s 4ms/step - loss: 0.6700 - accuracy: 0.6549 - val_loss: 0.6423 - val_accuracy: 0.7073\n",
      "Epoch 4/10\n",
      "16/16 [==============================] - 0s 4ms/step - loss: 0.6656 - accuracy: 0.6317 - val_loss: 0.6364 - val_accuracy: 0.6992\n",
      "Epoch 5/10\n",
      "16/16 [==============================] - 0s 4ms/step - loss: 0.6756 - accuracy: 0.6550 - val_loss: 0.6331 - val_accuracy: 0.6911\n",
      "Epoch 6/10\n",
      "16/16 [==============================] - 0s 4ms/step - loss: 0.6419 - accuracy: 0.6713 - val_loss: 0.6258 - val_accuracy: 0.6911\n",
      "Epoch 7/10\n",
      "16/16 [==============================] - 0s 4ms/step - loss: 0.6413 - accuracy: 0.6694 - val_loss: 0.6210 - val_accuracy: 0.6992\n",
      "Epoch 8/10\n",
      "16/16 [==============================] - 0s 4ms/step - loss: 0.6462 - accuracy: 0.6666 - val_loss: 0.6170 - val_accuracy: 0.6992\n",
      "Epoch 9/10\n",
      "16/16 [==============================] - 0s 10ms/step - loss: 0.6370 - accuracy: 0.6637 - val_loss: 0.6144 - val_accuracy: 0.6992\n",
      "Epoch 10/10\n",
      "16/16 [==============================] - 0s 4ms/step - loss: 0.6309 - accuracy: 0.6748 - val_loss: 0.6062 - val_accuracy: 0.6992\n",
      "5/5 - 0s - loss: 0.6272 - accuracy: 0.6364\n"
     ]
    },
    {
     "data": {
      "text/plain": [
       "[0.6272091269493103, 0.6363636255264282]"
      ]
     },
     "execution_count": 29,
     "metadata": {},
     "output_type": "execute_result"
    }
   ],
   "source": [
    "model32.compile(optimizer='adam',\n",
    "             loss=loss_fn,\n",
    "             metrics=['accuracy'])\n",
    "\n",
    "hist2 = model32.fit(X2_train, y2_train, validation_split=0.2, epochs=10)\n",
    "model32.evaluate(X2_test, y2_test, verbose=2)"
   ]
  }
 ],
 "metadata": {
  "kernelspec": {
   "display_name": "Python 3",
   "language": "python",
   "name": "python3"
  },
  "language_info": {
   "codemirror_mode": {
    "name": "ipython",
    "version": 3
   },
   "file_extension": ".py",
   "mimetype": "text/x-python",
   "name": "python",
   "nbconvert_exporter": "python",
   "pygments_lexer": "ipython3",
   "version": "3.6.6"
  }
 },
 "nbformat": 4,
 "nbformat_minor": 2
}
